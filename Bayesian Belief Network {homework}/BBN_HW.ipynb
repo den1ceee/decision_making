{
  "cells": [
    {
      "cell_type": "markdown",
      "metadata": {
        "formattedRanges": [],
        "cell_id": "9d8c5831e52d49c99faaef902190d770",
        "deepnote_cell_type": "text-cell-h1",
        "id": "jXaNJirJpkwZ"
      },
      "source": [
        "# ДЗ №2. Байесовские сети"
      ]
    },
    {
      "cell_type": "markdown",
      "source": [
        "Всем привет! Сейчас я представлю свое видение сокращенной Байесовской сети, основанной на статье\n",
        "\n",
        "1. Sien Chen, Wenqiang Huang, Mengxi Chen, Junjiang Zhong, Jie Cheng, Sien Chen, Wenqiang Huang, Mengxi Chen, Junjiang Zhong, and Jie Cheng. 2017. Airlines Content Recommendations Based on Passengers’ Choice Using Bayesian Belief Networks. In Bayesian Inference. IntechOpen. DOI:https://doi.org/10.5772/intechopen.70131\n"
      ],
      "metadata": {
        "id": "Zo2d2ekfuXrf"
      }
    },
    {
      "cell_type": "markdown",
      "source": [
        "## Предобработка и загрузка данных\n",
        "\n",
        "Для начала, установим и загрузим необходимые библиотеки"
      ],
      "metadata": {
        "id": "Qcz5RmI6JoGi"
      }
    },
    {
      "cell_type": "code",
      "metadata": {
        "source_hash": "51939525",
        "is_code_hidden": false,
        "execution_start": 1687083270526,
        "execution_millis": 317764,
        "deepnote_to_be_reexecuted": false,
        "deepnote_app_is_code_hidden": true,
        "cell_id": "08b834c06c784b46b11314918f563f81",
        "deepnote_cell_type": "code",
        "id": "qUPSGDhEpkwf",
        "colab": {
          "base_uri": "https://localhost:8080/"
        },
        "outputId": "8971620b-1d79-4344-bfc6-c7f4bc12dbb0"
      },
      "source": [
        "# Для начала скачаем все необходимые бибиотеки\n",
        "!pip install pomegranate==0.14.8\n",
        "\n",
        "!sudo apt update\n",
        "!sudo apt install libgraphviz-dev -y\n",
        "!pip install pygraphviz"
      ],
      "execution_count": null,
      "outputs": [
        {
          "output_type": "stream",
          "name": "stdout",
          "text": [
            "Looking in indexes: https://pypi.org/simple, https://us-python.pkg.dev/colab-wheels/public/simple/\n",
            "Requirement already satisfied: pomegranate==0.14.8 in /usr/local/lib/python3.10/dist-packages (0.14.8)\n",
            "Requirement already satisfied: numpy>=1.20.0 in /usr/local/lib/python3.10/dist-packages (from pomegranate==0.14.8) (1.22.4)\n",
            "Requirement already satisfied: joblib>=0.9.0b4 in /usr/local/lib/python3.10/dist-packages (from pomegranate==0.14.8) (1.2.0)\n",
            "Requirement already satisfied: networkx>=2.4 in /usr/local/lib/python3.10/dist-packages (from pomegranate==0.14.8) (3.1)\n",
            "Requirement already satisfied: scipy>=0.17.0 in /usr/local/lib/python3.10/dist-packages (from pomegranate==0.14.8) (1.10.1)\n",
            "Requirement already satisfied: pyyaml in /usr/local/lib/python3.10/dist-packages (from pomegranate==0.14.8) (6.0)\n",
            "Looking in indexes: https://pypi.org/simple, https://us-python.pkg.dev/colab-wheels/public/simple/\n",
            "Requirement already satisfied: openpyxl in /usr/local/lib/python3.10/dist-packages (3.0.10)\n",
            "Requirement already satisfied: et-xmlfile in /usr/local/lib/python3.10/dist-packages (from openpyxl) (1.1.0)\n",
            "Looking in indexes: https://pypi.org/simple, https://us-python.pkg.dev/colab-wheels/public/simple/\n",
            "Requirement already satisfied: xlrd in /usr/local/lib/python3.10/dist-packages (2.0.1)\n"
          ]
        }
      ]
    },
    {
      "cell_type": "code",
      "metadata": {
        "source_hash": "1ce43f51",
        "execution_start": 1687084560720,
        "execution_millis": 566,
        "deepnote_to_be_reexecuted": false,
        "cell_id": "dbb476f5f9204875a4029c4e5649e4f8",
        "deepnote_cell_type": "code",
        "id": "Yi_2p_vnpkwh"
      },
      "source": [
        "from pomegranate import *\n",
        "from pygraphviz import *"
      ],
      "execution_count": null,
      "outputs": []
    },
    {
      "cell_type": "markdown",
      "source": [
        "## Построение Сети"
      ],
      "metadata": {
        "id": "RhNdySzHJzEi"
      }
    },
    {
      "cell_type": "markdown",
      "source": [
        "Переменные, из которых должна состоять сеть:\n",
        "- Content Recommendation,\n",
        "- loyalty,\n",
        "- age,\n",
        "- occupation,\n",
        "- flight time\n",
        "\n",
        "Т.к. все эти переменные есть в статье, я построю связь прямо как в исследовательском DAG, за исключением переменных, которые мне не предоставлены. Получается:"
      ],
      "metadata": {
        "id": "KJO8znThJ46J"
      }
    },
    {
      "cell_type": "markdown",
      "source": [
        "age -> occupation -> Content Recommendation -> loyalty\n",
        "\n",
        "flight time -> Content Recommendation"
      ],
      "metadata": {
        "id": "nmAewYe8rBHu"
      }
    },
    {
      "cell_type": "markdown",
      "source": [
        "### Переменные без родителей\n",
        "\n",
        "Переменные без родителей - возраст и время полета\n",
        "\n",
        "Возраст в оригинале разбивался на 4 категории: до 18, молодые-средние-старые\n",
        "\n",
        "\n",
        "Т.к. детей младше 18 в данных китайской авиакомпании составляют менее 1% всех пассажиров, я схлопываю их с категорией молодой возраст (YoungAge), остальные веса оставляю как есть\n",
        "\n",
        "\n",
        "Категории время полета - утро, день и вечер оставляю как есть\n"
      ],
      "metadata": {
        "id": "aNpdk98BKypA"
      }
    },
    {
      "cell_type": "code",
      "source": [
        "age = DiscreteDistribution({\n",
        "    'YoungAge': 0.28,\n",
        "    'MiddleAge': 0.53,\n",
        "    'Old': 0.19\n",
        "})\n",
        "\n",
        "flight_time = DiscreteDistribution({\n",
        "    'Morning': 0.44,\n",
        "    'Afternoon': 0.189,\n",
        "    'Evening': 0.371\n",
        "})"
      ],
      "metadata": {
        "id": "42oZQvuxzYEm"
      },
      "execution_count": null,
      "outputs": []
    },
    {
      "cell_type": "markdown",
      "source": [
        "### Переменные с родителями\n",
        "\n",
        "occupation (или цель полета) делится на два типа - для досуга и для бизнеса\n",
        "\n",
        "Логично представить, что среди молодежи и пожилых людей гораздо больше людей, которые едут в путешествия для рекреационных целей, нежели у людей среднего возраста. Люди среднего возраста с большей вероятностью находятся в статусе занятого (работой), а следовательно, летают в бизнес-целях (например, в командировку)\n",
        "\n",
        "В целом, это доказывать не нужно, но я решил найти ссылку на [статистическое исследование сделанное в США](https://news.gallup.com/poll/388484/air-travel-remains-down-employed-adults-fly-less.aspx), в котором продемонстрировано, что работающие люди совершают больше путевок, нежели неработающие - что соответствует распределению возрастных групп в моих вероятностных весах"
      ],
      "metadata": {
        "id": "qgk6QW45Lxad"
      }
    },
    {
      "cell_type": "code",
      "source": [
        "occupation = ConditionalProbabilityTable([\n",
        "    ['YoungAge', 'Leisure', 0.7],\n",
        "    ['YoungAge', 'Business', 0.3],\n",
        "    ['MiddleAge', 'Leisure', 0.6],\n",
        "    ['MiddleAge', 'Business', 0.4],\n",
        "    ['Old', 'Leisure', 0.8],\n",
        "    ['Old', 'Business', 0.2],\n",
        "], [age])"
      ],
      "metadata": {
        "id": "Bs8Eo6E_08CE"
      },
      "execution_count": null,
      "outputs": []
    },
    {
      "cell_type": "markdown",
      "source": [
        "Дальше идет рассчет вероятностей для той самой рекомендации - всего в оригинальной статье приводится 6 возможных видов рекомендаций контента. Вставлять все их в мою сеть было бы тяжелым занятием, поэтому я оставляю первые 3 (в целом, довольно важные):\n",
        "- Products: популярные маршруты; международные и внутренние отели; беспошлинные подарки и т.д.;\n",
        "- Services: специальная помощь, запрос багажа, онлайн-регистрация, предоплаченный багаж и т.д.;\n",
        "- Tips: путеводитель, развлекательные мероприятия, места в залах ожидания и задержки рейсов\n",
        "\n",
        "\n",
        "Тк рассчитывать полноценно вероятности через перемножение вероятностей было бы трудно, я решил расставить веса ориентируясь на логику (\"экспертное мнение\")\n",
        "\n",
        "Для начала мы должны понять, что для каждой рекомендации контента в сумме должно выходить 1 (products, services, tips)\n",
        "\n",
        "Итак, в целом в afternoon едет мало людей, поэтому вероятность изначально меньше будет чем во всех остальных категориях\n",
        "\n",
        "Рекомендательные продукты скорее нужны будут людям, которые едут на досуг, чем тем, кто едет из бизнес-целей\n",
        "\n",
        "Помощь с сервисом будет актуальнее для людей, которые едут в бизнес-целях, потому что им нужно как можно быстрее выехать из точки А в точку Б. И если у них случается проблема (с багажом, с регистрацией), это сильно влияет по их лояльности\n",
        "\n",
        "Подсказки вроде путеводителей и популярных мероприятий в точке Б будут значительнее важнее для людей летящих на отдых, очень мала вероятность, что это нужно в бизнес-поездках, имеющих четкую цель\n",
        "\n",
        "Ориентируясь на логику, описанную сверху, я и распределял веса вручную для разных типов occupation, flight_time, content_recommendation\n"
      ],
      "metadata": {
        "id": "quyufcHMOA6G"
      }
    },
    {
      "cell_type": "code",
      "source": [
        "# Products, Services, Tips\n",
        "content_recommendation = ConditionalProbabilityTable(\n",
        "                [[ 'Leisure', 'Morning', 'Products', 0.15 ],\n",
        "                 [ 'Leisure', 'Afternoon', 'Products', 0.1 ],\n",
        "                 [ 'Leisure', 'Evening', 'Products', 0.25 ],\n",
        "                 [ 'Business', 'Morning', 'Products', 0.25 ],\n",
        "                 [ 'Business', 'Afternoon', 'Products', 0.1 ],\n",
        "                 [ 'Business', 'Evening', 'Products', 0.15 ], # total in Products = 1\n",
        "                 [ 'Leisure', 'Morning', 'Services', 0.125 ],\n",
        "                 [ 'Leisure', 'Afternoon', 'Services', 0.1 ],\n",
        "                 [ 'Leisure', 'Evening', 'Services', 0.175 ],\n",
        "                 [ 'Business', 'Morning', 'Services', 0.3 ],\n",
        "                 [ 'Business', 'Afternoon', 'Services', 0.1 ],\n",
        "                 [ 'Business', 'Evening', 'Services', 0.2 ], # total in Services = 1\n",
        "                 [ 'Leisure', 'Morning', 'Tips', 0.25 ],\n",
        "                 [ 'Leisure', 'Afternoon', 'Tips', 0.15 ],\n",
        "                 [ 'Leisure', 'Evening', 'Tips', 0.35 ],\n",
        "                 [ 'Business', 'Morning', 'Tips', 0.1 ],\n",
        "                 [ 'Business', 'Afternoon', 'Tips', 0.05 ],\n",
        "                 [ 'Business', 'Evening', 'Tips', 0.1 ], # total in Tips = 1\n",
        "], [occupation, flight_time] )"
      ],
      "metadata": {
        "id": "i6WmkJWEN48-"
      },
      "execution_count": null,
      "outputs": []
    },
    {
      "cell_type": "markdown",
      "source": [
        "Логика для подсчетов весов лояльности была следующая: скорее всего, самый нужный контент для наших пользователей будет различная помощь с сервисом, что значительно улучшит пользовательских опыт наших пассажиров. Следовательно, для high+services влияние наивысшее.\n",
        "\n",
        "А tips просто важнее чем продукты, субъективное мнение"
      ],
      "metadata": {
        "id": "_HPyB_uSRMA3"
      }
    },
    {
      "cell_type": "code",
      "source": [
        "loyalty = ConditionalProbabilityTable([\n",
        "    ['Products', 'low', 0.25],\n",
        "    ['Products', 'high', 0.75],\n",
        "    ['Services', 'low', 0.1],\n",
        "    ['Services', 'high', 0.9],\n",
        "    ['Tips', 'low', 0.3],\n",
        "    ['Tips', 'high', 0.7],\n",
        "], [content_recommendation])"
      ],
      "metadata": {
        "id": "wVFQRh9zRLeA"
      },
      "execution_count": null,
      "outputs": []
    },
    {
      "cell_type": "markdown",
      "source": [
        "## Техническая настройка сети"
      ],
      "metadata": {
        "id": "htTI9qyMR2Re"
      }
    },
    {
      "cell_type": "code",
      "source": [
        "# Define the network structure\n",
        "s1 = State(age, name=\"age\")\n",
        "s2 = State(occupation, name=\"occupation\")\n",
        "s3 = State(content_recommendation, name=\"content_recommendation\")\n",
        "s4 = State(loyalty, name=\"loyalty\")\n",
        "s5 = State(flight_time, name=\"flight_time\")\n",
        "\n",
        "# Build the Bayesian network\n",
        "network = BayesianNetwork(\"Content Recommendation Network\")\n",
        "network.add_states(s1, s2, s3, s4, s5)\n",
        "network.add_edge(s1, s2)\n",
        "network.add_edge(s2, s3)\n",
        "network.add_edge(s3, s4)\n",
        "network.add_edge(s5, s3)\n",
        "network.bake()"
      ],
      "metadata": {
        "id": "A7FeVJ7Kyvx3"
      },
      "execution_count": null,
      "outputs": []
    },
    {
      "cell_type": "code",
      "source": [
        "network.plot()"
      ],
      "metadata": {
        "colab": {
          "base_uri": "https://localhost:8080/",
          "height": 406
        },
        "id": "18Hcqt0r-Oll",
        "outputId": "d37ca7cd-29ae-4e05-bd36-fde7f129d514"
      },
      "execution_count": null,
      "outputs": [
        {
          "output_type": "display_data",
          "data": {
            "text/plain": [
              "<Figure size 640x480 with 1 Axes>"
            ],
            "image/png": "[encoded data removed]"
          },
          "metadata": {}
        }
      ]
    },
    {
      "cell_type": "code",
      "source": [
        "network.structure"
      ],
      "metadata": {
        "colab": {
          "base_uri": "https://localhost:8080/"
        },
        "id": "vLJZqsaW-6bX",
        "outputId": "5338a026-407d-4f17-9659-6bac17cfafbd"
      },
      "execution_count": null,
      "outputs": [
        {
          "output_type": "execute_result",
          "data": {
            "text/plain": [
              "((), (0,), (1, 4), (2,), ())"
            ]
          },
          "metadata": {},
          "execution_count": 29
        }
      ]
    },
    {
      "cell_type": "markdown",
      "source": [
        "## Пример\n",
        "\n",
        "Итак, не смотря на то что лояльность является конечным node'ом, разумнее всего будет оценить какой контент мы должны выдать пользователю - тк это и является финальной целью той же статьи.\n",
        "\n",
        "А лояльность зависит уже от того, насколько качественно мы выдали рекомендацию (опять же, это логика исследовательской модели в статье)\n",
        "\n",
        "Поэтому я попытаюсь предсказать какой контент мы должны посоветовать пользователю, который\n",
        "- молодой\n",
        "- летит утром"
      ],
      "metadata": {
        "id": "xU3nQgQUSCeH"
      }
    },
    {
      "cell_type": "code",
      "source": [
        "evidence = {'age': 'YoungAge', 'flight_time': 'Morning'}\n",
        "prob_distribution = network.predict_proba(evidence)\n",
        "s3_index = network.states.index(s3)\n",
        "print(prob_distribution[s3_index].parameters[0])  # Content Recommendation probabilities"
      ],
      "metadata": {
        "colab": {
          "base_uri": "https://localhost:8080/"
        },
        "id": "uiMhO3_MCGO1",
        "outputId": "7f4c5e78-1834-424b-b997-10e75a7936e0"
      },
      "execution_count": null,
      "outputs": [
        {
          "output_type": "stream",
          "name": "stdout",
          "text": [
            "{'Services': 0.3155555555555556, 'Tips': 0.3644444444444444, 'Products': 0.31999999999999995}\n"
          ]
        }
      ]
    },
    {
      "cell_type": "markdown",
      "source": [
        "Видим, что вероятность Tips выше чем у Services и Products. Поэтому, пользователю, о которым мы знаем такие характеристики (молодой + полет происходит утром) мы должны посоветовать Tips, т.е. путеводитель, развлекательные мероприятия, места в залах ожидания и задержки рейсов\n"
      ],
      "metadata": {
        "id": "undYsbx8Spbk"
      }
    }
  ],
  "nbformat": 4,
  "nbformat_minor": 0,
  "metadata": {
    "deepnote": {},
    "orig_nbformat": 2,
    "deepnote_notebook_id": "0fc9de3743e2442d95d6d67665fcbf8e",
    "deepnote_execution_queue": [],
    "colab": {
      "provenance": []
    },
    "language_info": {
      "name": "python"
    },
    "kernelspec": {
      "name": "python3",
      "display_name": "Python 3"
    }
  }
}